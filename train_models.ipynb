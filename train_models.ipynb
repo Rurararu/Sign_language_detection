{
 "cells": [
  {
   "cell_type": "code",
   "id": "initial_id",
   "metadata": {
    "collapsed": true,
    "ExecuteTime": {
     "end_time": "2025-09-24T12:53:18.701657Z",
     "start_time": "2025-09-24T12:53:09.346996Z"
    }
   },
   "source": [
    "import pickle\n",
    "import numpy as np\n",
    "from sklearn.ensemble import RandomForestClassifier, GradientBoostingClassifier\n",
    "from sklearn.linear_model import LogisticRegression\n",
    "from sklearn.neighbors import KNeighborsClassifier\n",
    "from sklearn.svm import SVC\n",
    "from sklearn.model_selection import train_test_split\n",
    "from sklearn.metrics import accuracy_score"
   ],
   "outputs": [],
   "execution_count": 1
  },
  {
   "metadata": {
    "ExecuteTime": {
     "end_time": "2025-09-24T12:53:56.224957Z",
     "start_time": "2025-09-24T12:53:56.178050Z"
    }
   },
   "cell_type": "code",
   "source": [
    "data_dict = pickle.load(open('./dataset/dataset.pickle', 'rb'))\n",
    "\n",
    "data = []\n",
    "labels = []"
   ],
   "id": "daf3928b56d5394f",
   "outputs": [],
   "execution_count": 3
  },
  {
   "metadata": {
    "ExecuteTime": {
     "end_time": "2025-09-24T12:53:58.082096Z",
     "start_time": "2025-09-24T12:53:58.066471Z"
    }
   },
   "cell_type": "code",
   "source": [
    "for features, label in zip(data_dict['data'], data_dict['labels']):\n",
    "    if len(features) == 42:\n",
    "        data.append(features)\n",
    "        labels.append(label)\n",
    "\n",
    "data = np.asarray(data)\n",
    "labels = np.asarray(labels)"
   ],
   "id": "9134be69c8bc758c",
   "outputs": [],
   "execution_count": 4
  },
  {
   "metadata": {
    "ExecuteTime": {
     "end_time": "2025-09-24T12:53:59.878004Z",
     "start_time": "2025-09-24T12:53:59.846752Z"
    }
   },
   "cell_type": "code",
   "source": [
    "x_train, x_test, y_train, y_test = train_test_split(\n",
    "    data, labels, test_size=0.2, shuffle=True, stratify=labels\n",
    ")"
   ],
   "id": "36f29e7022a7bbd6",
   "outputs": [],
   "execution_count": 5
  },
  {
   "metadata": {
    "ExecuteTime": {
     "end_time": "2025-09-24T12:54:01.623824Z",
     "start_time": "2025-09-24T12:54:01.592571Z"
    }
   },
   "cell_type": "code",
   "source": [
    "models = {\n",
    "    \"RandomForest\": RandomForestClassifier(),\n",
    "    \"LogisticRegression\": LogisticRegression(max_iter=1000),\n",
    "    \"KNN\": KNeighborsClassifier(n_neighbors=5),\n",
    "    \"SVM\": SVC(),\n",
    "    \"GradientBoosting\": GradientBoostingClassifier()\n",
    "}"
   ],
   "id": "fe069fbd3337e3e6",
   "outputs": [],
   "execution_count": 6
  },
  {
   "metadata": {
    "ExecuteTime": {
     "end_time": "2025-09-24T12:55:09.342244Z",
     "start_time": "2025-09-24T12:54:03.475402Z"
    }
   },
   "cell_type": "code",
   "source": [
    "for name, model in models.items():\n",
    "    model.fit(x_train, y_train)\n",
    "    y_predict = model.predict(x_test)\n",
    "    score = accuracy_score(y_test, y_predict)\n",
    "    print(f\"{name} Accuracy: {score:.4f}\")"
   ],
   "id": "6f9cf23aade107ff",
   "outputs": [
    {
     "name": "stdout",
     "output_type": "stream",
     "text": [
      "RandomForest Accuracy: 1.0000\n",
      "LogisticRegression Accuracy: 0.9885\n",
      "KNN Accuracy: 1.0000\n",
      "SVM Accuracy: 0.9942\n",
      "GradientBoosting Accuracy: 0.9904\n"
     ]
    }
   ],
   "execution_count": 7
  }
 ],
 "metadata": {
  "kernelspec": {
   "display_name": "Python 3",
   "language": "python",
   "name": "python3"
  },
  "language_info": {
   "codemirror_mode": {
    "name": "ipython",
    "version": 2
   },
   "file_extension": ".py",
   "mimetype": "text/x-python",
   "name": "python",
   "nbconvert_exporter": "python",
   "pygments_lexer": "ipython2",
   "version": "2.7.6"
  }
 },
 "nbformat": 4,
 "nbformat_minor": 5
}
